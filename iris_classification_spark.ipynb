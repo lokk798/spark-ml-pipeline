{
 "cells": [
  {
   "cell_type": "code",
   "execution_count": 16,
   "id": "d373f951-a1a3-4315-a021-d5b7ff3307dd",
   "metadata": {},
   "outputs": [
    {
     "name": "stdout",
     "output_type": "stream",
     "text": [
      "3.5.0\n"
     ]
    }
   ],
   "source": [
    "from pyspark.sql import SparkSession\n",
    "\n",
    "spark = SparkSession.builder \\\n",
    "    .appName(\"MyApp\") \\\n",
    "    .master(\"spark://spark-master:7077\") \\\n",
    "    .getOrCreate()\n",
    "\n",
    "print(spark.version)\n"
   ]
  },
  {
   "cell_type": "code",
   "execution_count": 17,
   "id": "9752edb2-443a-4b36-aab5-10a9539bfe83",
   "metadata": {},
   "outputs": [
    {
     "name": "stdout",
     "output_type": "stream",
     "text": [
      "+---+-------------+------------+-------------+------------+-----------+\n",
      "| Id|SepalLengthCm|SepalWidthCm|PetalLengthCm|PetalWidthCm|    Species|\n",
      "+---+-------------+------------+-------------+------------+-----------+\n",
      "|  1|          5.1|         3.5|          1.4|         0.2|Iris-setosa|\n",
      "|  2|          4.9|         3.0|          1.4|         0.2|Iris-setosa|\n",
      "|  3|          4.7|         3.2|          1.3|         0.2|Iris-setosa|\n",
      "|  4|          4.6|         3.1|          1.5|         0.2|Iris-setosa|\n",
      "|  5|          5.0|         3.6|          1.4|         0.2|Iris-setosa|\n",
      "+---+-------------+------------+-------------+------------+-----------+\n",
      "only showing top 5 rows\n",
      "\n"
     ]
    }
   ],
   "source": [
    "df = spark.read.csv(\"hdfs://namenode:8020/data/Iris.csv\", header=True, inferSchema=True)\n",
    "df.show(5)"
   ]
  },
  {
   "cell_type": "code",
   "execution_count": 18,
   "id": "7d2010e1-5fe9-45f3-9fd8-00b19fecd29b",
   "metadata": {},
   "outputs": [
    {
     "name": "stdout",
     "output_type": "stream",
     "text": [
      "root\n",
      " |-- SepalLengthCm: double (nullable = true)\n",
      " |-- SepalWidthCm: double (nullable = true)\n",
      " |-- PetalLengthCm: double (nullable = true)\n",
      " |-- PetalWidthCm: double (nullable = true)\n",
      " |-- Species: string (nullable = true)\n",
      "\n"
     ]
    }
   ],
   "source": [
    "df = df.drop(\"Id\")\n",
    "df.printSchema()\n"
   ]
  },
  {
   "cell_type": "code",
   "execution_count": 19,
   "id": "f3f3c3d3-d5fd-4a44-bd31-e48687e48fdb",
   "metadata": {},
   "outputs": [
    {
     "name": "stdout",
     "output_type": "stream",
     "text": [
      "+-----------+-----+\n",
      "|    Species|label|\n",
      "+-----------+-----+\n",
      "|Iris-setosa|  0.0|\n",
      "|Iris-setosa|  0.0|\n",
      "|Iris-setosa|  0.0|\n",
      "|Iris-setosa|  0.0|\n",
      "|Iris-setosa|  0.0|\n",
      "+-----------+-----+\n",
      "only showing top 5 rows\n",
      "\n"
     ]
    }
   ],
   "source": [
    "from pyspark.ml.feature import StringIndexer\n",
    "\n",
    "label_indexer = StringIndexer(inputCol=\"Species\", outputCol=\"label\")\n",
    "df_indexed = label_indexer.fit(df).transform(df)\n",
    "df_indexed.select(\"Species\", \"label\").show(5)\n"
   ]
  },
  {
   "cell_type": "code",
   "execution_count": 20,
   "id": "1faca483-4ea8-42c8-985a-b5d46618b786",
   "metadata": {},
   "outputs": [
    {
     "name": "stdout",
     "output_type": "stream",
     "text": [
      "+-----------------+-----+\n",
      "|features         |label|\n",
      "+-----------------+-----+\n",
      "|[5.1,3.5,1.4,0.2]|0.0  |\n",
      "|[4.9,3.0,1.4,0.2]|0.0  |\n",
      "|[4.7,3.2,1.3,0.2]|0.0  |\n",
      "|[4.6,3.1,1.5,0.2]|0.0  |\n",
      "|[5.0,3.6,1.4,0.2]|0.0  |\n",
      "+-----------------+-----+\n",
      "only showing top 5 rows\n",
      "\n"
     ]
    }
   ],
   "source": [
    "from pyspark.ml.feature import VectorAssembler\n",
    "\n",
    "assembler = VectorAssembler(\n",
    "    inputCols=[\"SepalLengthCm\", \"SepalWidthCm\", \"PetalLengthCm\", \"PetalWidthCm\"],\n",
    "    outputCol=\"features\"\n",
    ")\n",
    "\n",
    "df_final = assembler.transform(df_indexed)\n",
    "df_final.select(\"features\", \"label\").show(5, truncate=False)\n"
   ]
  },
  {
   "cell_type": "code",
   "execution_count": 23,
   "id": "5e9026a1-6c8d-4fec-95e8-26ea0af290ce",
   "metadata": {},
   "outputs": [],
   "source": [
    "train_data, test_data = df_final.randomSplit([0.7, 0.3], seed=42)\n"
   ]
  },
  {
   "cell_type": "code",
   "execution_count": 27,
   "id": "e96d2680-c912-4c49-b2ce-956007767e64",
   "metadata": {},
   "outputs": [],
   "source": [
    "from pyspark.ml.classification import DecisionTreeClassifier\n",
    "from pyspark.ml import Pipeline\n",
    "\n",
    "dt = DecisionTreeClassifier(featuresCol=\"features\", labelCol=\"label\")\n",
    "\n",
    "# Create pipeline\n",
    "pipeline = Pipeline(stages=[ dt])\n",
    "\n",
    "# Fit model\n",
    "model = pipeline.fit(train_data)\n"
   ]
  },
  {
   "cell_type": "markdown",
   "id": "14d08db9-e357-489c-b5ba-0c5489ad3db3",
   "metadata": {},
   "source": [
    "### We can do everything from scratch in the pipeline"
   ]
  },
  {
   "cell_type": "code",
   "execution_count": null,
   "id": "f7356a83-5a29-4b2a-81a1-0b17ac729ce5",
   "metadata": {},
   "outputs": [],
   "source": [
    "# from pyspark.ml import Pipeline\n",
    "\n",
    "# # Refit label indexer on raw data\n",
    "# label_indexer = StringIndexer(inputCol=\"Species\", outputCol=\"label\")\n",
    "# assembler = VectorAssembler(inputCols=[\"SepalLengthCm\", \"SepalWidthCm\", \"PetalLengthCm\", \"PetalWidthCm\"], outputCol=\"features\")\n",
    "# dt = DecisionTreeClassifier(featuresCol=\"features\", labelCol=\"label\")\n",
    "\n",
    "# # Create the full pipeline\n",
    "# pipeline = Pipeline(stages=[label_indexer, assembler, dt])\n",
    "\n",
    "# # Split from the original DataFrame\n",
    "# train_data, test_data = df.randomSplit([0.7, 0.3], seed=42)\n",
    "\n",
    "# # Fit\n",
    "# model = pipeline.fit(train_data)\n"
   ]
  },
  {
   "cell_type": "code",
   "execution_count": 28,
   "id": "e1299409-30da-4cd1-bd9f-0ee6afcfcd58",
   "metadata": {},
   "outputs": [
    {
     "name": "stdout",
     "output_type": "stream",
     "text": [
      "+-----------------+-----+----------+\n",
      "|         features|label|prediction|\n",
      "+-----------------+-----+----------+\n",
      "|[4.4,3.0,1.3,0.2]|  0.0|       0.0|\n",
      "|[4.6,3.2,1.4,0.2]|  0.0|       0.0|\n",
      "|[4.6,3.6,1.0,0.2]|  0.0|       0.0|\n",
      "|[4.7,3.2,1.3,0.2]|  0.0|       0.0|\n",
      "|[4.8,3.1,1.6,0.2]|  0.0|       0.0|\n",
      "+-----------------+-----+----------+\n",
      "only showing top 5 rows\n",
      "\n"
     ]
    }
   ],
   "source": [
    "predictions = model.transform(test_data)\n",
    "predictions.select(\"features\", \"label\", \"prediction\").show(5)\n"
   ]
  },
  {
   "cell_type": "code",
   "execution_count": 29,
   "id": "3aba8d18-4d64-463c-b94e-1dab21d8b32e",
   "metadata": {},
   "outputs": [
    {
     "name": "stdout",
     "output_type": "stream",
     "text": [
      "Test Accuracy: 0.98\n"
     ]
    }
   ],
   "source": [
    "from pyspark.ml.evaluation import MulticlassClassificationEvaluator\n",
    "\n",
    "evaluator = MulticlassClassificationEvaluator(\n",
    "    labelCol=\"label\", predictionCol=\"prediction\", metricName=\"accuracy\"\n",
    ")\n",
    "\n",
    "accuracy = evaluator.evaluate(predictions)\n",
    "print(f\"Test Accuracy: {accuracy:.2f}\")\n"
   ]
  },
  {
   "cell_type": "code",
   "execution_count": 30,
   "id": "5eb960ac-afbd-4977-ba16-49523c5216ba",
   "metadata": {},
   "outputs": [],
   "source": [
    "pandas_df = predictions.select(\"label\", \"prediction\").toPandas()\n"
   ]
  },
  {
   "cell_type": "code",
   "execution_count": 31,
   "id": "71696848-cf52-4da3-9593-312c1ad428f9",
   "metadata": {},
   "outputs": [
    {
     "data": {
      "image/png": "[encoded data removed]",
      "text/plain": [
       "<Figure size 600x400 with 2 Axes>"
      ]
     },
     "metadata": {},
     "output_type": "display_data"
    }
   ],
   "source": [
    "import matplotlib.pyplot as plt\n",
    "import seaborn as sns\n",
    "from sklearn.metrics import confusion_matrix\n",
    "\n",
    "cm = confusion_matrix(pandas_df[\"label\"], pandas_df[\"prediction\"])\n",
    "\n",
    "plt.figure(figsize=(6,4))\n",
    "sns.heatmap(cm, annot=True, fmt='d', cmap='Blues')\n",
    "plt.xlabel(\"Predicted\")\n",
    "plt.ylabel(\"Actual\")\n",
    "plt.title(\"Confusion Matrix\")\n",
    "plt.show()\n"
   ]
  },
  {
   "cell_type": "code",
   "execution_count": null,
   "id": "538d4b92-1090-462c-a3fc-70a4dd158233",
   "metadata": {},
   "outputs": [],
   "source": []
  }
 ],
 "metadata": {
  "kernelspec": {
   "display_name": "Python 3 (ipykernel)",
   "language": "python",
   "name": "python3"
  },
  "language_info": {
   "codemirror_mode": {
    "name": "ipython",
    "version": 3
   },
   "file_extension": ".py",
   "mimetype": "text/x-python",
   "name": "python",
   "nbconvert_exporter": "python",
   "pygments_lexer": "ipython3",
   "version": "3.11.6"
  }
 },
 "nbformat": 4,
 "nbformat_minor": 5
}
